{
 "cells": [
  {
   "cell_type": "code",
   "execution_count": 9,
   "id": "d8cb8e33",
   "metadata": {},
   "outputs": [
    {
     "data": {
      "text/plain": [
       "True"
      ]
     },
     "execution_count": 9,
     "metadata": {},
     "output_type": "execute_result"
    }
   ],
   "source": [
    "a = '18sncj1kl'\n",
    "len(a) in range (4,30)"
   ]
  },
  {
   "cell_type": "code",
   "execution_count": 20,
   "id": "ec5cdde4",
   "metadata": {},
   "outputs": [
    {
     "name": "stdout",
     "output_type": "stream",
     "text": [
      "sdgfs.-d\n",
      "true\n"
     ]
    }
   ],
   "source": [
    "def CodelandUsernameValidation(strParam):\n",
    "\n",
    "  # code goes here\n",
    "  if len(strParam) in range (4,26) and strParam[0].isalpha() and strParam[len(strParam)-1]!='_' and (c.isalnum() or c in '_' for c in strParam):\n",
    "    strParam = 'true'\n",
    "  else:\n",
    "    strParam = 'false'\n",
    "\n",
    "  return strParam\n",
    "\n",
    "# keep this function call here \n",
    "print(CodelandUsernameValidation(input()))\n"
   ]
  },
  {
   "cell_type": "code",
   "execution_count": null,
   "id": "6c69d55c",
   "metadata": {},
   "outputs": [],
   "source": []
  }
 ],
 "metadata": {
  "kernelspec": {
   "display_name": "Python 3 (ipykernel)",
   "language": "python",
   "name": "python3"
  },
  "language_info": {
   "codemirror_mode": {
    "name": "ipython",
    "version": 3
   },
   "file_extension": ".py",
   "mimetype": "text/x-python",
   "name": "python",
   "nbconvert_exporter": "python",
   "pygments_lexer": "ipython3",
   "version": "3.9.13"
  }
 },
 "nbformat": 4,
 "nbformat_minor": 5
}
