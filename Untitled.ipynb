{
 "cells": [
  {
   "cell_type": "code",
   "execution_count": 1,
   "id": "8c8e6d8a",
   "metadata": {},
   "outputs": [],
   "source": [
    "import numpy as np"
   ]
  },
  {
   "cell_type": "code",
   "execution_count": 2,
   "id": "d6813e07",
   "metadata": {},
   "outputs": [],
   "source": [
    "import pandas as pd"
   ]
  },
  {
   "cell_type": "code",
   "execution_count": 3,
   "id": "ed90c732",
   "metadata": {},
   "outputs": [],
   "source": [
    "myindex = [\"USA\", \"Canada\", \"Mexico\"]"
   ]
  },
  {
   "cell_type": "code",
   "execution_count": 4,
   "id": "5d26840f",
   "metadata": {},
   "outputs": [],
   "source": [
    "mydata = [1776, 1867, 1821]"
   ]
  },
  {
   "cell_type": "code",
   "execution_count": 11,
   "id": "a195e933",
   "metadata": {},
   "outputs": [],
   "source": [
    "myser = pd.Series(mydata,myindex)"
   ]
  },
  {
   "cell_type": "code",
   "execution_count": 12,
   "id": "605b184a",
   "metadata": {},
   "outputs": [
    {
     "data": {
      "text/plain": [
       "USA       1776\n",
       "Canada    1867\n",
       "Mexico    1821\n",
       "dtype: int64"
      ]
     },
     "execution_count": 12,
     "metadata": {},
     "output_type": "execute_result"
    }
   ],
   "source": [
    "myser"
   ]
  },
  {
   "cell_type": "code",
   "execution_count": 7,
   "id": "ae62359a",
   "metadata": {},
   "outputs": [
    {
     "data": {
      "text/plain": [
       "1776"
      ]
     },
     "execution_count": 7,
     "metadata": {},
     "output_type": "execute_result"
    }
   ],
   "source": [
    "myser[0]"
   ]
  },
  {
   "cell_type": "code",
   "execution_count": 8,
   "id": "98637722",
   "metadata": {},
   "outputs": [
    {
     "data": {
      "text/plain": [
       "1776"
      ]
     },
     "execution_count": 8,
     "metadata": {},
     "output_type": "execute_result"
    }
   ],
   "source": [
    "myser[\"USA\"]"
   ]
  },
  {
   "cell_type": "code",
   "execution_count": 10,
   "id": "93cd3cbc",
   "metadata": {},
   "outputs": [
    {
     "data": {
      "text/plain": [
       "1867"
      ]
     },
     "execution_count": 10,
     "metadata": {},
     "output_type": "execute_result"
    }
   ],
   "source": [
    "myser[1]"
   ]
  },
  {
   "cell_type": "code",
   "execution_count": 13,
   "id": "8fa35a00",
   "metadata": {},
   "outputs": [],
   "source": [
    "ages = {\"Sam\":5, \"John\":10, \"Fiz\":7}"
   ]
  },
  {
   "cell_type": "code",
   "execution_count": 14,
   "id": "d042a8b9",
   "metadata": {},
   "outputs": [
    {
     "data": {
      "text/plain": [
       "{'Sam': 5, 'John': 10, 'Fiz': 7}"
      ]
     },
     "execution_count": 14,
     "metadata": {},
     "output_type": "execute_result"
    }
   ],
   "source": [
    "ages"
   ]
  },
  {
   "cell_type": "code",
   "execution_count": 15,
   "id": "7dd991c7",
   "metadata": {},
   "outputs": [
    {
     "data": {
      "text/plain": [
       "Sam      5\n",
       "John    10\n",
       "Fiz      7\n",
       "dtype: int64"
      ]
     },
     "execution_count": 15,
     "metadata": {},
     "output_type": "execute_result"
    }
   ],
   "source": [
    "pd.Series(ages)"
   ]
  },
  {
   "cell_type": "code",
   "execution_count": 16,
   "id": "cd82446c",
   "metadata": {},
   "outputs": [],
   "source": [
    "q1 = {\"Japan\":80, \"China\":450, \"India\":200, \"USA\":250}"
   ]
  },
  {
   "cell_type": "code",
   "execution_count": 17,
   "id": "3947f530",
   "metadata": {},
   "outputs": [],
   "source": [
    "q2 = {\"Brazil\":100, \"China\":500, \"India\":210, \"USA\":260}"
   ]
  },
  {
   "cell_type": "code",
   "execution_count": 18,
   "id": "de7c885a",
   "metadata": {},
   "outputs": [],
   "source": [
    "sales_q1=pd.Series(q1)"
   ]
  },
  {
   "cell_type": "code",
   "execution_count": 19,
   "id": "695fb8d9",
   "metadata": {},
   "outputs": [],
   "source": [
    "sales_q2=pd.Series(q2)"
   ]
  },
  {
   "cell_type": "code",
   "execution_count": 21,
   "id": "f94fc6b0",
   "metadata": {},
   "outputs": [
    {
     "data": {
      "text/plain": [
       "Index(['Japan', 'China', 'India', 'USA'], dtype='object')"
      ]
     },
     "execution_count": 21,
     "metadata": {},
     "output_type": "execute_result"
    }
   ],
   "source": [
    "sales_q1.keys()"
   ]
  },
  {
   "cell_type": "code",
   "execution_count": 22,
   "id": "38d634b7",
   "metadata": {},
   "outputs": [
    {
     "data": {
      "text/plain": [
       "Japan    160\n",
       "China    900\n",
       "India    400\n",
       "USA      500\n",
       "dtype: int64"
      ]
     },
     "execution_count": 22,
     "metadata": {},
     "output_type": "execute_result"
    }
   ],
   "source": [
    "sales_q1*2"
   ]
  },
  {
   "cell_type": "code",
   "execution_count": 23,
   "id": "acb1beb6",
   "metadata": {},
   "outputs": [
    {
     "data": {
      "text/plain": [
       "Brazil      NaN\n",
       "China     950.0\n",
       "India     410.0\n",
       "Japan       NaN\n",
       "USA       510.0\n",
       "dtype: float64"
      ]
     },
     "execution_count": 23,
     "metadata": {},
     "output_type": "execute_result"
    }
   ],
   "source": [
    "sales_q1 + sales_q2"
   ]
  },
  {
   "cell_type": "code",
   "execution_count": 24,
   "id": "ab18fdff",
   "metadata": {},
   "outputs": [
    {
     "data": {
      "text/plain": [
       "Brazil      NaN\n",
       "China     950.0\n",
       "India     410.0\n",
       "Japan       NaN\n",
       "USA       510.0\n",
       "dtype: float64"
      ]
     },
     "execution_count": 24,
     "metadata": {},
     "output_type": "execute_result"
    }
   ],
   "source": [
    "sales_q1.add(sales_q2)"
   ]
  },
  {
   "cell_type": "code",
   "execution_count": 32,
   "id": "5ca2a9a8",
   "metadata": {},
   "outputs": [
    {
     "data": {
      "text/plain": [
       "Brazil    100.0\n",
       "China     950.0\n",
       "India     410.0\n",
       "Japan      80.0\n",
       "USA       510.0\n",
       "dtype: float64"
      ]
     },
     "execution_count": 32,
     "metadata": {},
     "output_type": "execute_result"
    }
   ],
   "source": [
    "((sales_q1.add(sales_q2,fill_value=0)))"
   ]
  },
  {
   "cell_type": "code",
   "execution_count": null,
   "id": "7bc29832",
   "metadata": {},
   "outputs": [],
   "source": []
  }
 ],
 "metadata": {
  "kernelspec": {
   "display_name": "Python 3 (ipykernel)",
   "language": "python",
   "name": "python3"
  },
  "language_info": {
   "codemirror_mode": {
    "name": "ipython",
    "version": 3
   },
   "file_extension": ".py",
   "mimetype": "text/x-python",
   "name": "python",
   "nbconvert_exporter": "python",
   "pygments_lexer": "ipython3",
   "version": "3.9.13"
  }
 },
 "nbformat": 4,
 "nbformat_minor": 5
}
